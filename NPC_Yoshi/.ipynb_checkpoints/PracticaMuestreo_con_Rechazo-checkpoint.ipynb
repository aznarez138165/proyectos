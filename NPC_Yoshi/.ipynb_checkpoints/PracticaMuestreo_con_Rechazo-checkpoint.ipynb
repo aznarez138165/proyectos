{
 "cells": [
  {
   "cell_type": "markdown",
   "metadata": {},
   "source": [
    "## Practica método de Muestreo aleatorio para la inferencia en Redes Bayesianas\n",
    "\n",
    "En esta práctica vamos a programar el método de muestreo aleatorio para la inferencia en Redes Bayesianas. "
   ]
  },
  {
   "cell_type": "markdown",
   "metadata": {},
   "source": [
    "En el método del muestreo aleatorio se generan N ejemplos de la distribución de la RB. Estos ejemplos se generan muestreando cada nodo de la red de arriba a abajo. Después,se utilizan las muestras que contienen la evidencia = e y la querie para estimar la probabilidad condicionada."
   ]
  },
  {
   "cell_type": "markdown",
   "metadata": {},
   "source": [
    "## Nodos y Grafos \n",
    "Para implementar los nodos de una Red Bayesiana y el Grafo vamos a utilizar clases y diccionarios de python. En la siguiente celda la clase nodo representa un nodo de la Red Bayesiana. Como información tiene:\n",
    "- padres: lista donde se almacenan los nodos padres\n",
    "- hijos: lista donde se almacenan los nodos hijos\n",
    "- p: lista con la tabla de probabilidades\n",
    "- state: El estado de la variable. En principio como es una variable aletaria desconocemos su valor, por eso se inicia a None. Si 'vemos' el valor de la variable, es decir si esa variable es una evidencia, conocemos su valor. Entonces podremos cambiar el estado al valor de la variable. En esta práctica las variables son binarias, por lo tanto el estado podrá ser 0 (positivo) o 1 (negativo).\n",
    "- num_states: el número de posibles estados\n",
    "- states: los valores de los estados (como vamos a trabajar con variables binarias los estados serán 0 o 1.\n"
   ]
  },
  {
   "cell_type": "code",
   "execution_count": 2,
   "metadata": {},
   "outputs": [],
   "source": [
    "import random\n",
    "class nodo:\n",
    "    def __init__(self, padres, hijos, p):\n",
    "        self.padres = padres\n",
    "        self.hijos = hijos\n",
    "        self.p = p\n",
    "        \n",
    "        self.num_states = 2\n",
    "        self.states = [0, 1]\n",
    "        self.state = None\n",
    "        \n",
    "    \n",
    "    def sample(self, estado_padres):\n",
    "        sel.state = None\n",
    "        \n",
    "            "
   ]
  },
  {
   "cell_type": "markdown",
   "metadata": {},
   "source": [
    "En esta práctica vamos a trabajar con la RB que tenía las variables Nublado, Aspersor, Lluvia y Mojado. En la siguiente celda definimos la distribución de probabilidad de la variable Nublado y creamos un objeto nodo. Las listas de hijos y padres continen la información de las relaciones entre las variables. Vamos a crear unas etiquetas, valores enteros, para identificar cada nodo:\n",
    "- Nublado: 0\n",
    "- Aspersor: 1\n",
    "- Lluvia: 2\n",
    "- Mojado: 3"
   ]
  },
  {
   "cell_type": "code",
   "execution_count": 3,
   "metadata": {},
   "outputs": [],
   "source": [
    "# Nublado\n",
    "pN = [[0.5, 0.5]]\n",
    "Nublado = nodo([], [1,2], pN)"
   ]
  },
  {
   "cell_type": "code",
   "execution_count": 9,
   "metadata": {},
   "outputs": [],
   "source": [
    "# Aspersor\n",
    "pA = [[0.1, 0.9], [0.5, 0.5]]\n",
    "Aspersor = nodo([0], [3], pA)"
   ]
  },
  {
   "cell_type": "markdown",
   "metadata": {},
   "source": [
    "Si quiero ver la probabilidad de que el aspersor se encienda si el cielo está nublado:"
   ]
  },
  {
   "cell_type": "code",
   "execution_count": 5,
   "metadata": {},
   "outputs": [
    {
     "name": "stdout",
     "output_type": "stream",
     "text": [
      "0.1\n"
     ]
    }
   ],
   "source": [
    "# pongo el estado de nublado a positivo:\n",
    "Nublado.state = 0\n",
    "print(Aspersor.p[Nublado.state][0])"
   ]
  },
  {
   "cell_type": "markdown",
   "metadata": {},
   "source": [
    "Completa la tabla con la distribución de la variable Lluvia y la variable Mojado y crea sus nodos:"
   ]
  },
  {
   "cell_type": "code",
   "execution_count": 10,
   "metadata": {},
   "outputs": [],
   "source": [
    "# Lluvia\n",
    "pLl = [[0.8, 0.2], [0.3, 0.7]]\n",
    "Lluvia = nodo([0], [3], pLl)"
   ]
  },
  {
   "cell_type": "code",
   "execution_count": 13,
   "metadata": {},
   "outputs": [],
   "source": [
    "#Mojado\n",
    "pM = [[1, 0], [0.9, 0.1], [0.9, 0.1], [0.01, 0.99]]\n",
    "Mojado = nodo([1,2], [], pM)"
   ]
  },
  {
   "cell_type": "markdown",
   "metadata": {},
   "source": [
    "Pon los estados de aspersor y lluvia con valor 1 y comprueba la probabilidad de que el suelo esté mojado condicionado a no aspersor y no lluvia: "
   ]
  },
  {
   "cell_type": "code",
   "execution_count": 19,
   "metadata": {},
   "outputs": [
    {
     "name": "stdout",
     "output_type": "stream",
     "text": [
      "0.1\n"
     ]
    }
   ],
   "source": [
    "Aspersor.state = 1\n",
    "Lluvia.state = 1\n",
    "print(Mojado.p[Aspersor.state][Lluvia.state])"
   ]
  },
  {
   "cell_type": "markdown",
   "metadata": {},
   "source": [
    "El Grafo lo guardamos en un diccionario en el que la clave es la etiqueta de cada nodo y el valor es el propio nodo:"
   ]
  },
  {
   "cell_type": "code",
   "execution_count": 20,
   "metadata": {},
   "outputs": [],
   "source": [
    "Grafo = {0: Nublado, 1:Aspersor, 2:Lluvia, 3:Mojado}"
   ]
  },
  {
   "cell_type": "code",
   "execution_count": 21,
   "metadata": {},
   "outputs": [
    {
     "name": "stdout",
     "output_type": "stream",
     "text": [
      "{0: 0, 1: 1, 2: 1, 3: None}\n"
     ]
    }
   ],
   "source": [
    "# Esta función pasa los estados de cada nodo del grafo a un diccionario y lo imprime\n",
    "def imprime(g):\n",
    "    totalstate={}\n",
    "    for nodo in g.keys():\n",
    "        totalstate[nodo] = g[nodo].state\n",
    "    print(totalstate)\n",
    "imprime(Grafo)"
   ]
  },
  {
   "cell_type": "markdown",
   "metadata": {},
   "source": [
    "Crea una función que recorra todos los nodos de un grafo y ponga todos sus estados a None:"
   ]
  },
  {
   "cell_type": "code",
   "execution_count": 22,
   "metadata": {},
   "outputs": [],
   "source": [
    "def reset_grafo(g):\n",
    "    for nodo in g.values():\n",
    "        nodo.state = None\n",
    "\n",
    "    return g"
   ]
  },
  {
   "cell_type": "markdown",
   "metadata": {},
   "source": [
    "Ahora vamos implementar un recorrido en anchura del grafo para generar una muestra. El objetivo es ir recorriendo en anhura los nodos del grafo, y en cada nodo mediante un número aleatorio modificar el estado del nodo. Para modificar el estado del nodo, primero debes volver a la celda inicial y completar el método sample(). Este nuevo nodo tiene como parámetro una lista con los estados de los nodos padres para poder acceder a la probabilidad condicionada y cambia el estado del nodo a 0 o 1 dependiendo del valor aleatorio que se genera dentro del método. Ten en cuenta que en nuestro ejemplo hay un nodo que no tiene ningún padre, otros nodos tiene un padre y otro nodo tiene dos padres. \n",
    "Comprueba que el método sample funciona:"
   ]
  },
  {
   "cell_type": "code",
   "execution_count": 23,
   "metadata": {},
   "outputs": [
    {
     "ename": "NameError",
     "evalue": "name 'sel' is not defined",
     "output_type": "error",
     "traceback": [
      "\u001b[1;31m---------------------------------------------------------------------------\u001b[0m",
      "\u001b[1;31mNameError\u001b[0m                                 Traceback (most recent call last)",
      "Cell \u001b[1;32mIn[23], line 1\u001b[0m\n\u001b[1;32m----> 1\u001b[0m \u001b[43mAspersor\u001b[49m\u001b[38;5;241;43m.\u001b[39;49m\u001b[43msample\u001b[49m\u001b[43m(\u001b[49m\u001b[43m[\u001b[49m\u001b[38;5;241;43m0\u001b[39;49m\u001b[43m]\u001b[49m\u001b[43m)\u001b[49m\n\u001b[0;32m      2\u001b[0m \u001b[38;5;28mprint\u001b[39m(Aspersor\u001b[38;5;241m.\u001b[39mstate)\n",
      "Cell \u001b[1;32mIn[2], line 14\u001b[0m, in \u001b[0;36mnodo.sample\u001b[1;34m(self, estado_padres)\u001b[0m\n\u001b[0;32m     13\u001b[0m \u001b[38;5;28;01mdef\u001b[39;00m \u001b[38;5;21msample\u001b[39m(\u001b[38;5;28mself\u001b[39m, estado_padres):\n\u001b[1;32m---> 14\u001b[0m     \u001b[43msel\u001b[49m\u001b[38;5;241m.\u001b[39mstate \u001b[38;5;241m=\u001b[39m \u001b[38;5;28;01mNone\u001b[39;00m\n",
      "\u001b[1;31mNameError\u001b[0m: name 'sel' is not defined"
     ]
    }
   ],
   "source": [
    "Aspersor.sample([0])\n",
    "print(Aspersor.state)"
   ]
  },
  {
   "cell_type": "markdown",
   "metadata": {},
   "source": [
    "Completa la función recorrido_anchura en que recorras el grafo en anchura. Utiliza la versión iterativa con la que trabajamos en búsquedas con la lista de abiertos y cerrados. En este caso cada vez que tengas un nodo en actual se llama al método sample y se cambia el estado de ese nodo. Al acabar de recorrer el grafo, todas las variables tendrán un estado, es decir se habrá generado una muestra aleatoria. El nodo que se pasa como parámetro es el nodo raiz del grafo."
   ]
  },
  {
   "cell_type": "code",
   "execution_count": null,
   "metadata": {},
   "outputs": [],
   "source": [
    "from collections import deque\n",
    "def recorrido_anchura(node, graph):\n",
    "\n",
    "    abiertos = deque()\n",
    "       \n",
    "    return graph\n",
    "        "
   ]
  },
  {
   "cell_type": "markdown",
   "metadata": {},
   "source": [
    "Cada muestra la vamos a representar mediante un diccionario, por ejemplo este diccionario es una muestra:\n",
    "\n",
    "{0:1, 1:0, 2:1, 3:0}\n",
    "\n",
    "Crea una función que primero resetea el grafo, después realiza un recorrido en anchura y finalmente devuelve una muestra con los estados de los nodos del grafo."
   ]
  },
  {
   "cell_type": "code",
   "execution_count": null,
   "metadata": {},
   "outputs": [],
   "source": [
    "def sample_grafo(node, graph):\n",
    "\n",
    "    \n",
    "    return states"
   ]
  },
  {
   "cell_type": "markdown",
   "metadata": {},
   "source": [
    "Finalmente vamos a a crear una función que realice la inferencia aproximada utilizando el método del muestreo con rechazo. La función tendrá como parámetros una query, una evidencia y un grafo. Las queries y las evidencias las vamos a representar mediante diccionarios, por ejemplo: Si queremos saber $P(+m|\\neg n)$ entonces:\n",
    "- query = {3:0} # El valor de la variable Mojado es 0.\n",
    "- evidencia = {0:1} # El valor de la variable Nublado es 1.\n",
    "\n",
    "\n",
    "Si nos preguntan $P(+Ll| +a, +m)$\n",
    "- query = {2:0}\n",
    "- evidence = {1:0, 3:0}\n"
   ]
  },
  {
   "cell_type": "code",
   "execution_count": null,
   "metadata": {},
   "outputs": [],
   "source": [
    "def infer(query, evidence, graph, num = 20000):\n",
    "    n_evidence = 0\n",
    "    n_query_and_evidence = 0\n",
    "    \n",
    "\n",
    "    return None"
   ]
  },
  {
   "cell_type": "markdown",
   "metadata": {},
   "source": [
    "Comprueba $P(+m|\\neg n)$ y $P(+Ll| +a, +m)$ con los resultados que hemos obtenido utilizando el método de enumeración."
   ]
  },
  {
   "cell_type": "code",
   "execution_count": null,
   "metadata": {},
   "outputs": [],
   "source": [
    "\n"
   ]
  },
  {
   "cell_type": "code",
   "execution_count": null,
   "metadata": {},
   "outputs": [],
   "source": []
  }
 ],
 "metadata": {
  "kernelspec": {
   "display_name": "Python 3 (ipykernel)",
   "language": "python",
   "name": "python3"
  },
  "language_info": {
   "codemirror_mode": {
    "name": "ipython",
    "version": 3
   },
   "file_extension": ".py",
   "mimetype": "text/x-python",
   "name": "python",
   "nbconvert_exporter": "python",
   "pygments_lexer": "ipython3",
   "version": "3.11.5"
  }
 },
 "nbformat": 4,
 "nbformat_minor": 4
}
