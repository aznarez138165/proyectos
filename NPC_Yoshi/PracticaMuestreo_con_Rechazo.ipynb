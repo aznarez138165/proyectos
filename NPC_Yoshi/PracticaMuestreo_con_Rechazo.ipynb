{
 "cells": [
  {
   "cell_type": "markdown",
   "metadata": {},
   "source": [
    "## Practica método de Muestreo aleatorio para la inferencia en Redes Bayesianas\n",
    "\n",
    "En esta práctica vamos a programar el método de muestreo aleatorio para la inferencia en Redes Bayesianas. "
   ]
  },
  {
   "cell_type": "markdown",
   "metadata": {},
   "source": [
    "En el método del muestreo aleatorio se generan N ejemplos de la distribución de la RB. Estos ejemplos se generan muestreando cada nodo de la red de arriba a abajo. Después,se utilizan las muestras que contienen la evidencia = e y la querie para estimar la probabilidad condicionada."
   ]
  },
  {
   "cell_type": "markdown",
   "metadata": {},
   "source": [
    "## Nodos y Grafos \n",
    "Para implementar los nodos de una Red Bayesiana y el Grafo vamos a utilizar clases y diccionarios de python. En la siguiente celda la clase nodo representa un nodo de la Red Bayesiana. Como información tiene:\n",
    "- padres: lista donde se almacenan los nodos padres\n",
    "- hijos: lista donde se almacenan los nodos hijos\n",
    "- p: lista con la tabla de probabilidades\n",
    "- state: El estado de la variable. En principio como es una variable aletaria desconocemos su valor, por eso se inicia a None. Si 'vemos' el valor de la variable, es decir si esa variable es una evidencia, conocemos su valor. Entonces podremos cambiar el estado al valor de la variable. En esta práctica las variables son binarias, por lo tanto el estado podrá ser 0 (positivo) o 1 (negativo).\n",
    "- num_states: el número de posibles estados\n",
    "- states: los valores de los estados (como vamos a trabajar con variables binarias los estados serán 0 o 1.\n"
   ]
  },
  {
   "cell_type": "code",
   "execution_count": 1,
   "metadata": {},
   "outputs": [],
   "source": [
    "import random\n",
    "class nodo:\n",
    "    def __init__(self, padres, hijos, p):\n",
    "        self.padres = padres\n",
    "        self.hijos = hijos\n",
    "        self.p = p\n",
    "        \n",
    "        self.num_states = 2\n",
    "        self.states = [0, 1]\n",
    "        self.state = None\n",
    "        \n",
    "    \n",
    "    def sample(self, estado_padres):\n",
    "        self.state = None\n",
    "        \n",
    "            "
   ]
  },
  {
   "cell_type": "markdown",
   "metadata": {},
   "source": [
    "En esta práctica vamos a trabajar con la RB que tenía las variables Nublado, Aspersor, Lluvia y Mojado. En la siguiente celda definimos la distribución de probabilidad de la variable Nublado y creamos un objeto nodo. Las listas de hijos y padres continen la información de las relaciones entre las variables. Vamos a crear unas etiquetas, valores enteros, para identificar cada nodo:\n",
    "- Nublado: 0\n",
    "- Aspersor: 1\n",
    "- Lluvia: 2\n",
    "- Mojado: 3"
   ]
  },
  {
   "cell_type": "code",
   "execution_count": 2,
   "metadata": {},
   "outputs": [],
   "source": [
    "# Nublado\n",
    "pN = [[0.5, 0.5]]\n",
    "Nublado = nodo([], [1,2], pN)"
   ]
  },
  {
   "cell_type": "code",
   "execution_count": 3,
   "metadata": {},
   "outputs": [],
   "source": [
    "# Aspersor\n",
    "pA = [[0.1, 0.9], [0.5, 0.5]]\n",
    "Aspersor = nodo([0], [3], pA)"
   ]
  },
  {
   "cell_type": "markdown",
   "metadata": {},
   "source": [
    "Si quiero ver la probabilidad de que el aspersor se encienda si el cielo está nublado:"
   ]
  },
  {
   "cell_type": "code",
   "execution_count": 4,
   "metadata": {},
   "outputs": [
    {
     "name": "stdout",
     "output_type": "stream",
     "text": [
      "0.1\n"
     ]
    }
   ],
   "source": [
    "# pongo el estado de nublado a positivo:\n",
    "Nublado.state = 0\n",
    "print(Aspersor.p[Nublado.state][0])"
   ]
  },
  {
   "cell_type": "markdown",
   "metadata": {},
   "source": [
    "Completa la tabla con la distribución de la variable Lluvia y la variable Mojado y crea sus nodos:"
   ]
  },
  {
   "cell_type": "code",
   "execution_count": 5,
   "metadata": {},
   "outputs": [],
   "source": [
    "# Lluvia\n",
    "pLl = [[0.8, 0.2], [0.3, 0.7]]\n",
    "Lluvia = nodo([0], [3], pLl)"
   ]
  },
  {
   "cell_type": "code",
   "execution_count": 6,
   "metadata": {},
   "outputs": [],
   "source": [
    "#Mojado\n",
    "pM = [[1, 0], [0.9, 0.1], [0.9, 0.1], [0.01, 0.99]]\n",
    "Mojado = nodo([1,2], [], pM)"
   ]
  },
  {
   "cell_type": "markdown",
   "metadata": {},
   "source": [
    "Pon los estados de aspersor y lluvia con valor 1 y comprueba la probabilidad de que el suelo esté mojado condicionado a no aspersor y no lluvia: "
   ]
  },
  {
   "cell_type": "code",
   "execution_count": 7,
   "metadata": {},
   "outputs": [
    {
     "name": "stdout",
     "output_type": "stream",
     "text": [
      "0.1\n"
     ]
    }
   ],
   "source": [
    "Aspersor.state = 1\n",
    "Lluvia.state = 1\n",
    "print(Mojado.p[Aspersor.state][Lluvia.state])"
   ]
  },
  {
   "cell_type": "markdown",
   "metadata": {},
   "source": [
    "El Grafo lo guardamos en un diccionario en el que la clave es la etiqueta de cada nodo y el valor es el propio nodo:"
   ]
  },
  {
   "cell_type": "code",
   "execution_count": 8,
   "metadata": {},
   "outputs": [],
   "source": [
    "Grafo = {0: Nublado, 1:Aspersor, 2:Lluvia, 3:Mojado}"
   ]
  },
  {
   "cell_type": "code",
   "execution_count": 9,
   "metadata": {},
   "outputs": [
    {
     "name": "stdout",
     "output_type": "stream",
     "text": [
      "{0: 0, 1: 1, 2: 1, 3: None}\n"
     ]
    }
   ],
   "source": [
    "# Esta función pasa los estados de cada nodo del grafo a un diccionario y lo imprime\n",
    "def imprime(g):\n",
    "    totalstate={}\n",
    "    for nodo in g.keys():\n",
    "        totalstate[nodo] = g[nodo].state\n",
    "    print(totalstate)\n",
    "imprime(Grafo)"
   ]
  },
  {
   "cell_type": "markdown",
   "metadata": {},
   "source": [
    "Crea una función que recorra todos los nodos de un grafo y ponga todos sus estados a None:"
   ]
  },
  {
   "cell_type": "code",
   "execution_count": 10,
   "metadata": {},
   "outputs": [],
   "source": [
    "def reset_grafo(g):\n",
    "    for nodo in g.values():\n",
    "        nodo.state = None\n",
    "\n",
    "    return g"
   ]
  },
  {
   "cell_type": "markdown",
   "metadata": {},
   "source": [
    "Ahora vamos implementar un recorrido en anchura del grafo para generar una muestra. El objetivo es ir recorriendo en anhura los nodos del grafo, y en cada nodo mediante un número aleatorio modificar el estado del nodo. Para modificar el estado del nodo, primero debes volver a la celda inicial y completar el método sample(). Este nuevo nodo tiene como parámetro una lista con los estados de los nodos padres para poder acceder a la probabilidad condicionada y cambia el estado del nodo a 0 o 1 dependiendo del valor aleatorio que se genera dentro del método. Ten en cuenta que en nuestro ejemplo hay un nodo que no tiene ningún padre, otros nodos tiene un padre y otro nodo tiene dos padres. \n",
    "Comprueba que el método sample funciona:"
   ]
  },
  {
   "cell_type": "code",
   "execution_count": 11,
   "metadata": {},
   "outputs": [
    {
     "name": "stdout",
     "output_type": "stream",
     "text": [
      "None\n"
     ]
    }
   ],
   "source": [
    "Aspersor.sample([0])\n",
    "print(Aspersor.state)"
   ]
  },
  {
   "cell_type": "markdown",
   "metadata": {},
   "source": [
    "Completa la función recorrido_anchura en que recorras el grafo en anchura. Utiliza la versión iterativa con la que trabajamos en búsquedas con la lista de abiertos y cerrados. En este caso cada vez que tengas un nodo en actual se llama al método sample y se cambia el estado de ese nodo. Al acabar de recorrer el grafo, todas las variables tendrán un estado, es decir se habrá generado una muestra aleatoria. El nodo que se pasa como parámetro es el nodo raiz del grafo."
   ]
  },
  {
   "cell_type": "code",
   "execution_count": 13,
   "metadata": {},
   "outputs": [],
   "source": [
    "from collections import deque\n",
    "\n",
    "def recorrido_anchura(node, graph):\n",
    "    abiertos = deque()\n",
    "    cerrados = []\n",
    "\n",
    "    # Agregamos el nodo raíz a la lista de nodos abiertos\n",
    "    abiertos.append(node)\n",
    "\n",
    "    while abiertos:\n",
    "        actual = abiertos.popleft()\n",
    "        cerrados.append(actual)\n",
    "        estados = []\n",
    "\n",
    "        # Obtener los estados de los nodos padres\n",
    "        for i in actual.padres:\n",
    "            estados.append(graph[i].state)\n",
    "\n",
    "        # Llamar al método sample y cambiar el estado del nodo actual\n",
    "        actual.sample(estados)\n",
    "\n",
    "        # Agregar los nodos hijos a la lista de nodos abiertos si no están en abiertos ni cerrados\n",
    "        for hijo in actual.hijos:\n",
    "            if hijo not in abiertos and hijo not in cerrados:\n",
    "                abiertos.append(graph[hijo])\n",
    "\n",
    "    return graph\n"
   ]
  },
  {
   "cell_type": "markdown",
   "metadata": {},
   "source": [
    "Cada muestra la vamos a representar mediante un diccionario, por ejemplo este diccionario es una muestra:\n",
    "\n",
    "{0:1, 1:0, 2:1, 3:0}\n",
    "\n",
    "Crea una función que primero resetea el grafo, después realiza un recorrido en anchura y finalmente devuelve una muestra con los estados de los nodos del grafo."
   ]
  },
  {
   "cell_type": "code",
   "execution_count": 14,
   "metadata": {},
   "outputs": [],
   "source": [
    "def sample_grafo(node, graph):\n",
    "    # Resetear el grafo\n",
    "    reset_grafo(graph)\n",
    "\n",
    "    # Realizar el recorrido en anchura\n",
    "    recorrido_anchura(node, graph)\n",
    "\n",
    "    # Crear y devolver una muestra con los estados de los nodos del grafo\n",
    "    states = {nodo: graph[nodo].state for nodo in graph}\n",
    "    return states"
   ]
  },
  {
   "cell_type": "markdown",
   "metadata": {},
   "source": [
    "Finalmente vamos a a crear una función que realice la inferencia aproximada utilizando el método del muestreo con rechazo. La función tendrá como parámetros una query, una evidencia y un grafo. Las queries y las evidencias las vamos a representar mediante diccionarios, por ejemplo: Si queremos saber $P(+m|\\neg n)$ entonces:\n",
    "- query = {3:0} # El valor de la variable Mojado es 0.\n",
    "- evidencia = {0:1} # El valor de la variable Nublado es 1.\n",
    "\n",
    "\n",
    "Si nos preguntan $P(+Ll| +a, +m)$\n",
    "- query = {2:0}\n",
    "- evidence = {1:0, 3:0}\n"
   ]
  },
  {
   "cell_type": "code",
   "execution_count": 16,
   "metadata": {},
   "outputs": [],
   "source": [
    "import random\n",
    "\n",
    "def infer(query, evidence, graph, num=20000):\n",
    "    n_evidence = 0\n",
    "    n_query_and_evidence = 0\n",
    "\n",
    "    # Realizar el muestreo\n",
    "    for _ in range(num):\n",
    "        # Generar muestras aleatorias de los estados de las variables en el grafo\n",
    "        states = sample_grafo(list(graph.keys())[0], graph)  # Se asume que el nodo raíz es el primer nodo en el grafo\n",
    "\n",
    "        # Comprobar si la muestra satisface la evidencia\n",
    "        evidence_satisfied = all(states[key] == value for key, value in evidence.items())\n",
    "        if evidence_satisfied:\n",
    "            n_evidence += 1\n",
    "\n",
    "            # Comprobar si la muestra satisface tanto la evidencia como la consulta\n",
    "            query_and_evidence_satisfied = all(states[key] == value for key, value in query.items())\n",
    "            if query_and_evidence_satisfied:\n",
    "                n_query_and_evidence += 1\n",
    "\n",
    "    # Calcular la probabilidad condicional aproximada\n",
    "    if n_evidence == 0:\n",
    "        return 0.0\n",
    "    else:\n",
    "        return n_query_and_evidence / n_evidence\n"
   ]
  },
  {
   "cell_type": "markdown",
   "metadata": {},
   "source": [
    "Comprueba $P(+m|\\neg n)$ y $P(+Ll| +a, +m)$ con los resultados que hemos obtenido utilizando el método de enumeración."
   ]
  },
  {
   "cell_type": "code",
   "execution_count": null,
   "metadata": {},
   "outputs": [],
   "source": [
    "\n"
   ]
  },
  {
   "cell_type": "code",
   "execution_count": null,
   "metadata": {},
   "outputs": [],
   "source": []
  }
 ],
 "metadata": {
  "kernelspec": {
   "display_name": "Python 3 (ipykernel)",
   "language": "python",
   "name": "python3"
  },
  "language_info": {
   "codemirror_mode": {
    "name": "ipython",
    "version": 3
   },
   "file_extension": ".py",
   "mimetype": "text/x-python",
   "name": "python",
   "nbconvert_exporter": "python",
   "pygments_lexer": "ipython3",
   "version": "3.11.5"
  }
 },
 "nbformat": 4,
 "nbformat_minor": 4
}
